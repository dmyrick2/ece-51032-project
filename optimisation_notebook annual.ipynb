{
 "cells": [
  {
   "cell_type": "code",
   "execution_count": 1,
   "metadata": {},
   "outputs": [],
   "source": [
    "import cvxpy as cp\n",
    "import pandas as pd\n",
    "import matplotlib.pyplot as plt\n",
    "import numpy as np\n",
    "import math\n",
    "from annual_profit_optimisation import run_profit_optimisation\n",
    "\n",
    "# Set ERCOT load zone and solar capacity\n",
    "ERCOT_LOAD_ZONE = 'LZ_HOUSTON'\n",
    "SOLAR_CAPACITY = 300\n",
    "SOLAR_PPA_DOL_KWH = 250\n",
    "FACILITY_LIFETIME = 25"
   ]
  },
  {
   "cell_type": "code",
   "execution_count": 2,
   "metadata": {},
   "outputs": [
    {
     "name": "stdout",
     "output_type": "stream",
     "text": [
      "24\n"
     ]
    }
   ],
   "source": [
    "# READ IN DATA\n",
    "# TODO: update as 'electricity' here is a normalised 8760 solar profile\n",
    "hourly_dayahead_realtime_solar = pd.read_csv(\"hourly_dayahead_realtime_solar.csv\")\n",
    "\n",
    "# Filter by load zone and complete data\n",
    "ERCOT_LOAD_ZONE = 'LZ_HOUSTON'\n",
    "hourly_dayahead_realtime_solar_lz = hourly_dayahead_realtime_solar[hourly_dayahead_realtime_solar['zone'] == ERCOT_LOAD_ZONE]\n",
    "hourly_dayahead_realtime_solar_lz = hourly_dayahead_realtime_solar_lz[hourly_dayahead_realtime_solar_lz['electricity'].notna()]\n",
    "\n",
    "number_of_days_test = 1\n",
    "hourly_dayahead_realtime_solar_lz = hourly_dayahead_realtime_solar_lz.iloc[0:24*number_of_days_test,]\n",
    "# Sets time duration of the optimisation\n",
    "# TODO: generat appropriate 8760 - due to shift in UTC time used for solar profile \n",
    "# and local_time used for ERCOT realtime and dayahead prices\n",
    "T = hourly_dayahead_realtime_solar_lz.shape[0]\n",
    "print(T)"
   ]
  },
  {
   "cell_type": "code",
   "execution_count": 3,
   "metadata": {},
   "outputs": [],
   "source": [
    "# FACILITY\n",
    "FACILITY_LIFETIME = 25\n",
    "OFFTAKE_TPD = 10\n",
    "GREEN_THRESHOLD_kg_per_kg = 0.4\n",
    "NUM_DAYS = math.ceil(T/24)\n",
    "\n",
    "# POWER\n",
    "#   SOLAR\n",
    "SOLAR_CAPACITY = 400\n",
    "SOLAR_PPA_DOL_KWH = 0.03 # 2 cents per kWh ($USD 50 per MWh)\n",
    "hourly_solar_production_kwh = hourly_dayahead_realtime_solar_lz['electricity']/hourly_dayahead_realtime_solar_lz['electricity'].max()\n",
    "#   GRID \n",
    "#       CONVERT $/MWh -> $/kWh\n",
    "hourly_dayahead_dol_per_kwh = hourly_dayahead_realtime_solar_lz['price_dayahead'] / 1000\n",
    "ERCTO_CO2_kg_per_kwh = 0.42062\n",
    "\n",
    "\n",
    "# EQUIPMENT\n",
    "#   OPERATIONAL \n",
    "#       EFFICIENCY\n",
    "ELECTROLYSIS_EFFICIENCY = 55\n",
    "COMPRESSION_EFFICIENCY = 4\n",
    "LIQUEFACTION_EFFICIENCY = 10\n",
    "#       LOWER OPERATION BOUNDS (% of nameplate capacity)\n",
    "ELECTROLYSIS_OPERATION_LOWER = 0.15\n",
    "COMPRESSOR_OPERATION_LOWER = 0.15\n",
    "LIQUEFACTION_OPERATION_LOWER = 0.60 \n",
    "#       RAMP CONSTRAINTS (% of nameplate capacity)\n",
    "LIQUEFACTION_MAX_UP = 0.2 # 10% per hour up\n",
    "LIQUEFACTION_MAX_DOWN = 0.2 # 10% per hour down\n",
    "\n",
    "#   CAPEX\n",
    "#   CAPEX - total\n",
    "ELECTROLYSIS_CAPEX_DOL_TPD = 1900000 # 1.9 million $USD per TPD of electrolysis\n",
    "COMPRESSOR_CAPEX_DOL_TPD = 900000 # 0.8 million $USD per TPD of comrpessor\n",
    "LIQUEFACTION_CAPEX_DOL_TPD = 2945000 # 2.945 million $USD per TPD of liquefaction per day\n",
    "LIQUEFACTION_CAPEX_DOL_TPD = 2945000 # 2.945 million $USD per TPD of liquefaction per day\n",
    "\n",
    "#   CAPEX - daily, for fast testing \n",
    "ELECTROLYSIS_CAPEX_DOL_kgPD = ELECTROLYSIS_CAPEX_DOL_TPD / 1000\n",
    "COMPRESSOR_CAPEX_DOL_kgPD = COMPRESSOR_CAPEX_DOL_TPD / 1000\n",
    "LIQUEFACTION_CAPEX_DOL_kgPD = LIQUEFACTION_CAPEX_DOL_TPD / 1000\n",
    "\n",
    "\n",
    "ELECTROLYSIS_CAPEX_DOL_kgPD = ELECTROLYSIS_CAPEX_DOL_kgPD * (NUM_DAYS / (FACILITY_LIFETIME * 365) )\n",
    "COMPRESSOR_CAPEX_DOL_kgPD = COMPRESSOR_CAPEX_DOL_kgPD * (NUM_DAYS / (FACILITY_LIFETIME * 365) )\n",
    "LIQUEFACTION_CAPEX_DOL_kgPD = LIQUEFACTION_CAPEX_DOL_kgPD * (NUM_DAYS / (FACILITY_LIFETIME * 365) )"
   ]
  },
  {
   "cell_type": "code",
   "execution_count": 5,
   "metadata": {},
   "outputs": [
    {
     "name": "stdout",
     "output_type": "stream",
     "text": [
      "total offtake 14.999999999999996\n",
      "power opex / kg 2.071603404707625\n",
      "capex per kg 2.0627010110933544\n",
      "total dol per kg 4.13430441580098\n",
      "capacity of electrolysis (tpd): 49.04942574677225, capex 10.213031114396413\n",
      "capacity of compressor (tpd) 49.04942574677225, capex 4.837751580503564\n",
      "capacity of liquefaction (tpd) 49.23389093461477, capex 15.889732471500329\n"
     ]
    }
   ],
   "source": [
    "problem, operations, facility = run_profit_optimisation(\n",
    "        SOLAR_CAPACITY,\n",
    "        SOLAR_PPA_DOL_KWH,\n",
    "        hourly_solar_production_kwh,\n",
    "        hourly_dayahead_dol_per_kwh,\n",
    "        ELECTROLYSIS_EFFICIENCY,\n",
    "        COMPRESSION_EFFICIENCY,\n",
    "        LIQUEFACTION_EFFICIENCY,\n",
    "        LIQUEFACTION_MAX_UP,\n",
    "        LIQUEFACTION_MAX_DOWN,\n",
    "        15,\n",
    "        NUM_DAYS,\n",
    "        ELECTROLYSIS_CAPEX_DOL_kgPD,\n",
    "        COMPRESSOR_CAPEX_DOL_kgPD,\n",
    "        LIQUEFACTION_CAPEX_DOL_kgPD,\n",
    "        GREEN_THRESHOLD_kg_per_kg,\n",
    "        ERCTO_CO2_kg_per_kwh,\n",
    "        T\n",
    "        )\n",
    "# OUTPUT\n",
    "power_opex_total = np.sum(operations['hourly_dayahead_dol_per_kwh'] @ operations['realtime_production_kwh']) \n",
    "power_opex_total += np.sum(SOLAR_PPA_DOL_KWH * operations['solar_production_kwh'])\n",
    "power_opex_per_kg = power_opex_total/sum(operations['liquefaction_produced_kg'])\n",
    "\n",
    "capex_total = facility['electrolyser_capacity_ph'] * 24 *ELECTROLYSIS_CAPEX_DOL_kgPD + \\\n",
    "    facility['compressor_capacity_ph'] * 24 * COMPRESSOR_CAPEX_DOL_kgPD + \\\n",
    "   facility['liquefaction_capacity_ph'] * 24 * LIQUEFACTION_CAPEX_DOL_kgPD\n",
    "\n",
    "\n",
    "capex_per_kg = capex_total / sum(operations['liquefaction_produced_kg'])\n",
    "print(f\"total offtake {sum(operations['liquefaction_produced_kg'])}\")\n",
    "print(f\"power opex / kg {power_opex_per_kg}\")\n",
    "print(f\"capex per kg {capex_per_kg}\")\n",
    "print(f\"total dol per kg {power_opex_per_kg + capex_per_kg}\")\n",
    "\n",
    "print(f\"capacity of electrolysis (tpd): {facility['electrolyser_capacity_ph']*24}, capex {facility['electrolyser_capacity_ph'] *24 *ELECTROLYSIS_CAPEX_DOL_kgPD}\")\n",
    "print(f\"capacity of compressor (tpd) {facility['compressor_capacity_ph']*24}, capex {facility['compressor_capacity_ph'] * 24 * COMPRESSOR_CAPEX_DOL_kgPD}\")\n",
    "print(f\"capacity of liquefaction (tpd) {facility['liquefaction_capacity_ph']*24}, capex {facility['liquefaction_capacity_ph']* 24 * LIQUEFACTION_CAPEX_DOL_kgPD}\")"
   ]
  },
  {
   "cell_type": "code",
   "execution_count": null,
   "metadata": {},
   "outputs": [],
   "source": [
    "# Define decision variables\n",
    "#   Electricity decision variables\n",
    "\n",
    "\n",
    "# OUTPUT\n",
    "power_opex_total = np.sum(hourly_dayahead_dol_per_kwh @ realtime_consumption.value) \n",
    "power_opex_total += np.sum(SOLAR_PPA_DOL_KWH * solar_consumed_facility.value)\n",
    "power_opex_per_kg = power_opex_total/sum(liquefacion_throughput.value)\n",
    "\n",
    "capex_total = electrolyser_nameplate_capacity_hour.value * 24 *ELECTROLYSIS_CAPEX_DOL_kgPD + \\\n",
    "    compressor_nameplate_capacity_hour.value * 24 * COMPRESSOR_CAPEX_DOL_kgPD + \\\n",
    "    liquefaction_nameplate_capacity_hour.value * 24 * LIQUEFACTION_CAPEX_DOL_kgPD\n",
    "\n",
    "\n",
    "capex_per_kg = capex_total / sum(liquefacion_throughput.value)\n",
    "print(f\"total offtake {sum(liquefacion_throughput.value)}\")\n",
    "print(f\"power opex / kg {power_opex_per_kg}\")\n",
    "print(f\"capex per kg {capex_per_kg}\")\n",
    "print(f\"total dol per kg {power_opex_per_kg + capex_per_kg}\")\n",
    "\n",
    "print(f\"capacity of electrolysis (tpd): {electrolyser_nameplate_capacity_hour.value*24}, capex {electrolyser_nameplate_capacity_hour.value *24 *ELECTROLYSIS_CAPEX_DOL_kgPD}\")\n",
    "print(f\"capacity of compressor (tpd) {compressor_nameplate_capacity_hour.value*24}, capex {compressor_nameplate_capacity_hour.value * 24 * COMPRESSOR_CAPEX_DOL_kgPD}\")\n",
    "print(f\"capacity of liquefaction (tpd) {liquefaction_nameplate_capacity_hour.value*24}, capex {liquefaction_nameplate_capacity_hour.value * 24 * LIQUEFACTION_CAPEX_DOL_kgPD}\")"
   ]
  },
  {
   "cell_type": "code",
   "execution_count": null,
   "metadata": {},
   "outputs": [],
   "source": [
    "print(ELECTROLYSIS_CAPEX_DOL_kgPD)"
   ]
  },
  {
   "cell_type": "code",
   "execution_count": null,
   "metadata": {},
   "outputs": [],
   "source": [
    "print(LIQUEFACTION_CAPEX_DOL_kgPD)"
   ]
  },
  {
   "cell_type": "code",
   "execution_count": null,
   "metadata": {},
   "outputs": [],
   "source": [
    "\n",
    "# create dataframe of results: \n",
    "operations_df = pd.DataFrame({\n",
    "    \"realtime_price_$_per_kwh\": hourly_dayahead_dol_per_kwh,\n",
    "    \"realtime_production_kwh\":realtime_consumption.value,\n",
    "    \"solar_production_kwh\": solar_consumed_facility.value, \n",
    "    \"electrolyser_consumption_kwh\": ELECTROLYSIS_EFFICIENCY*electrolyser_throughput.value, \n",
    "    \"compressor_consumption_kwh\": COMPRESSION_EFFICIENCY*compressor_throughput.value, \n",
    "    \"liquefaction_consumption_kwh\": LIQUEFACTION_EFFICIENCY*liquefacion_throughput.value,\n",
    "    \"electrolyser_produced_kg\": electrolyser_throughput.value, \n",
    "    \"compressor_produced_kg\": compressor_throughput.value, \n",
    "    \"liquefaction_produced_kg\": liquefacion_throughput.value,\n",
    "    \"compress_to_liquefaction\": compressor_to_liquefaction.value,\n",
    "    \"gh2_storage_level_kg\": gh2_storage_level.value[0:T],\n",
    "    # TODO: if problem size allows, add in big-M constraint \n",
    "    \"gh2_storage_net_inflow\": gh2_storage_inflow.value[0:T] - gh2_storage_outflow.value[0:T],\n",
    "    \"gh2_storge_inflow_kg\": gh2_storage_inflow.value[0:T], \n",
    "    \"gh2_storage_outflow_kg\": gh2_storage_outflow.value[0:T]\n",
    "    # \"gh2_storage_netflow\": gh2_storage_netflow.value\n",
    "})\n",
    "operations_df.to_csv(\"operations_8760_df.csv\")"
   ]
  },
  {
   "cell_type": "code",
   "execution_count": null,
   "metadata": {},
   "outputs": [],
   "source": [
    "fig, axs = plt.subplots(7, 1, figsize=(16, 16), sharex=True)  # 'sharex=True' shares the x-axis among all plots\n",
    "\n",
    "t = range(24)\n",
    "# Plot each time series in a different subplot\n",
    "axs[0].plot(t, electrolyser_throughput.value, label='Electrolyser throughput (kg)')\n",
    "axs[0].set_title('Electrolyser throughput (kg)')\n",
    "axs[0].legend()\n",
    "\n",
    "axs[1].plot(t, compressor_throughput.value, label='compressor_throughput (kg)')\n",
    "axs[1].set_title('Compressor_throughput.value')\n",
    "axs[1].legend()\n",
    "\n",
    "axs[2].plot(t, liquefacion_throughput.value, label='Liqufeaction throughput (kg)')\n",
    "axs[2].set_title('Liqufeaction throughput (kg)')\n",
    "axs[2].legend()\n",
    "\n",
    "axs[3].plot(t, gh2_storage_level.value[0:T], label='GH2 storage level (kg)')\n",
    "axs[3].set_title('GH2 storage level (kg)')\n",
    "axs[3].legend()\n",
    "\n",
    "axs[4].plot(t, operations_df['gh2_storage_net_inflow'].to_list(), label='GH2 storage net inflow (kg)')\n",
    "axs[4].set_title('GH2 net inflow (kg)')\n",
    "axs[4].legend()\n",
    "\n",
    "axs[5].plot(t, operations_df['solar_production_kwh'].to_list(), label='Solar consumed (kWh)')\n",
    "axs[5].set_title('Solar consumed (kWh)')\n",
    "axs[5].legend()\n",
    "\n",
    "\n",
    "\n",
    "axs6 = axs[6]\n",
    "axs6.plot(t, operations_df['realtime_production_kwh'].to_list(), label='Grid consumed (kWh)', color='blue')\n",
    "axs6.set_title('Grid consumed (kWh)')\n",
    "axs6.set_ylabel('Grid consumed (kWh)', color='blue')\n",
    "axs6.legend()\n",
    "\n",
    "# Create a secondary y-axis for the fourth subplot\n",
    "axs3_right = axs6.twinx()\n",
    "axs3_right.plot(t, operations_df['realtime_price_$_per_kwh'].to_list(), label='Real time price', color='green')\n",
    "axs3_right.set_ylabel('Realtime price', color='green')\n",
    "axs3_right.legend()\n",
    "# Optionally, adjust spacing between subplots for better visibility\n",
    "plt.tight_layout()\n",
    "\n",
    "# Show plot\n",
    "plt.show()"
   ]
  },
  {
   "cell_type": "code",
   "execution_count": null,
   "metadata": {},
   "outputs": [],
   "source": [
    "operations_df['gh2_storage_net_inflow']"
   ]
  }
 ],
 "metadata": {
  "interpreter": {
   "hash": "97dffb28d13c6605b020fbe9bf39b34a575b1f25c74b8773ff353ab17f99bded"
  },
  "kernelspec": {
   "display_name": "new_energy_operations_optimisation",
   "language": "python",
   "name": "new_energy_operations_optimisation"
  },
  "language_info": {
   "codemirror_mode": {
    "name": "ipython",
    "version": 3
   },
   "file_extension": ".py",
   "mimetype": "text/x-python",
   "name": "python",
   "nbconvert_exporter": "python",
   "pygments_lexer": "ipython3",
   "version": "3.9.12"
  },
  "orig_nbformat": 4
 },
 "nbformat": 4,
 "nbformat_minor": 2
}
