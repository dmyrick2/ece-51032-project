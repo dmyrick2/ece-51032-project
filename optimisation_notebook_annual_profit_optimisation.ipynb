{
 "cells": [
  {
   "cell_type": "code",
   "execution_count": 18,
   "metadata": {},
   "outputs": [
    {
     "name": "stdout",
     "output_type": "stream",
     "text": [
      "The autoreload extension is already loaded. To reload it, use:\n",
      "  %reload_ext autoreload\n"
     ]
    }
   ],
   "source": [
    "%load_ext autoreload\n",
    "%autoreload 2\n",
    "\n",
    "import cvxpy as cp\n",
    "import pandas as pd\n",
    "import matplotlib.pyplot as plt\n",
    "import numpy as np\n",
    "import math\n",
    "import json\n",
    "import os\n",
    "from annual_profit_optimisation import run_profit_maximisation\n",
    "\n",
    "# Set ERCOT load zone and solar capacity\n",
    "ERCOT_LOAD_ZONE = 'LZ_HOUSTON'\n",
    "SOLAR_CAPACITY = 300\n",
    "SOLAR_PPA_DOL_KWH = 250\n",
    "FACILITY_LIFETIME = 25"
   ]
  },
  {
   "cell_type": "code",
   "execution_count": 32,
   "metadata": {},
   "outputs": [
    {
     "name": "stdout",
     "output_type": "stream",
     "text": [
      "2400\n"
     ]
    }
   ],
   "source": [
    "# READ IN DATA\n",
    "# TODO: update as 'electricity' here is a normalised 8760 solar profile\n",
    "hourly_dayahead_realtime_solar = pd.read_csv(\"hourly_dayahead_realtime_solar.csv\")\n",
    "\n",
    "# Filter by load zone and complete data\n",
    "ERCOT_LOAD_ZONE = 'LZ_HOUSTON'\n",
    "hourly_dayahead_realtime_solar_lz = hourly_dayahead_realtime_solar[hourly_dayahead_realtime_solar['zone'] == ERCOT_LOAD_ZONE]\n",
    "hourly_dayahead_realtime_solar_lz = hourly_dayahead_realtime_solar_lz[hourly_dayahead_realtime_solar_lz['electricity'].notna()]\n",
    "\n",
    "number_of_days_test = 100\n",
    "hourly_dayahead_realtime_solar_lz = hourly_dayahead_realtime_solar_lz.iloc[0:24*number_of_days_test,]\n",
    "# Sets time duration of the optimisation\n",
    "# TODO: generat appropriate 8760 - due to shift in UTC time used for solar profile \n",
    "# and local_time used for ERCOT realtime and dayahead prices\n",
    "T = hourly_dayahead_realtime_solar_lz.shape[0]\n",
    "print(T)"
   ]
  },
  {
   "cell_type": "code",
   "execution_count": 50,
   "metadata": {},
   "outputs": [
    {
     "name": "stdout",
     "output_type": "stream",
     "text": [
      "32.273972602739725\n",
      "20.82191780821918\n",
      "2400\n",
      "0       0.02010\n",
      "1       0.01962\n",
      "2       0.01921\n",
      "3       0.01879\n",
      "4       0.02068\n",
      "         ...   \n",
      "2395    0.03264\n",
      "2396    0.02714\n",
      "2397    0.02412\n",
      "2398    0.02154\n",
      "2399    0.01596\n",
      "Name: price_dayahead, Length: 2400, dtype: float64\n"
     ]
    }
   ],
   "source": [
    "# FACILITY\n",
    "FACILITY_LIFETIME = 25\n",
    "OFFTAKE_TPD = 10\n",
    "GREEN_THRESHOLD_kg_per_kg = 0.4\n",
    "NUM_DAYS = math.ceil(T/24)\n",
    "H2_SALES_PRICE_DOL_per_kg = 4.0\n",
    "\n",
    "# POWER\n",
    "#   SOLAR\n",
    "SOLAR_CAPACITY = 400\n",
    "SOLAR_PPA_DOL_KWH = 0.032 # 2.5 cents per kWh ($USD 50 per MWh)\n",
    "hourly_solar_production_kwh = hourly_dayahead_realtime_solar_lz['electricity']/hourly_dayahead_realtime_solar_lz['electricity'].max()\n",
    "#   GRID \n",
    "#       CONVERT $/MWh -> $/kWh\n",
    "hourly_dayahead_dol_per_kwh = hourly_dayahead_realtime_solar_lz['price_dayahead'] / 1000\n",
    "ERCTO_CO2_kg_per_kwh = 0.42062\n",
    "hourly_dayahead_dol_per_kwh =  hourly_dayahead_dol_per_kwh.reset_index(drop=True)\n",
    "# hourly_dayahead_dol_per_kwh.iloc[20] = 0.3\n",
    "\n",
    "# hourly_dayahead_dol_per_kwh\n",
    "\n",
    "# EQUIPMENT\n",
    "#   OPERATIONAL \n",
    "#       EFFICIENCY\n",
    "ELECTROLYSIS_EFFICIENCY = 55\n",
    "COMPRESSION_EFFICIENCY = 4\n",
    "LIQUEFACTION_EFFICIENCY = 10\n",
    "FUEL_CELL_EFFICIENCY = 20\n",
    "#       LOWER OPERATION BOUNDS (% of nameplate capacity)\n",
    "ELECTROLYSIS_OPERATION_LOWER = 0.15\n",
    "COMPRESSOR_OPERATION_LOWER = 0.15\n",
    "LIQUEFACTION_OPERATION_LOWER = 0.60 \n",
    "#       RAMP CONSTRAINTS (% of nameplate capacity)\n",
    "LIQUEFACTION_MAX_UP = 0.2 # 10% per hour up\n",
    "LIQUEFACTION_MAX_DOWN = 0.2 # 10% per hour down\n",
    "\n",
    "#   CAPEX\n",
    "#   CAPEX - total\n",
    "ELECTROLYSIS_CAPEX_DOL_TPD = 1900000 # 1.9 million $USD per TPD of electrolysis\n",
    "COMPRESSOR_CAPEX_DOL_TPD = 900000 # 0.8 million $USD per TPD of comrpessor\n",
    "LIQUEFACTION_CAPEX_DOL_TPD = 2945000 # 2.945 million $USD per TPD of liquefaction per day\n",
    "FUELCELL_CAPEX_DOL_TPD = 100000 # 1.945 million $USD per TPD of liquefaction per day\n",
    "\n",
    "#   CAPEX - daily, for fast testing \n",
    "ELECTROLYSIS_CAPEX_DOL_kgPD = ELECTROLYSIS_CAPEX_DOL_TPD / 1000\n",
    "COMPRESSOR_CAPEX_DOL_kgPD = COMPRESSOR_CAPEX_DOL_TPD / 1000\n",
    "LIQUEFACTION_CAPEX_DOL_kgPD = LIQUEFACTION_CAPEX_DOL_TPD / 1000\n",
    "FUELCELL_CAPEX_DOL_kgPD = FUELCELL_CAPEX_DOL_TPD / 1000\n",
    "\n",
    "ELECTROLYSIS_CAPEX_DOL_kgPD = NUM_DAYS*ELECTROLYSIS_CAPEX_DOL_kgPD / (FACILITY_LIFETIME * 365)\n",
    "COMPRESSOR_CAPEX_DOL_kgPD = NUM_DAYS*COMPRESSOR_CAPEX_DOL_kgPD / (FACILITY_LIFETIME * 365 )\n",
    "LIQUEFACTION_CAPEX_DOL_kgPD = NUM_DAYS*LIQUEFACTION_CAPEX_DOL_kgPD / (FACILITY_LIFETIME * 365)\n",
    "FUELCELL_CAPEX_DOL_kgPD = NUM_DAYS*FUELCELL_CAPEX_DOL_kgPD / (FACILITY_LIFETIME * 365)\n",
    "print(LIQUEFACTION_CAPEX_DOL_kgPD)\n",
    "print(ELECTROLYSIS_CAPEX_DOL_kgPD)\n",
    "print(len(hourly_dayahead_dol_per_kwh))\n",
    "print(hourly_dayahead_dol_per_kwh)"
   ]
  },
  {
   "cell_type": "code",
   "execution_count": 28,
   "metadata": {},
   "outputs": [
    {
     "name": "stdout",
     "output_type": "stream",
     "text": [
      "(24,)\n",
      "total offtake 4.49832510260607\n",
      "power opex / kg 2.071584177170855\n",
      "capex per kg 1.8030469964005673\n",
      "total dol per kg 3.874631173571422\n",
      "profit 0.3509086431175248\n",
      "capacity of electrolysis (tpd): 11.828021903564887, capex 2.462820999098442\n",
      "capacity of compressor (tpd) 11.828021903564887, capex 1.1665994206255779\n",
      "capacity of liquefaction (tpd) 13.885093107449418, capex 0.18671963105679698\n",
      "capacity of fuelcell (tpd) 19.44, capex 0.008876712328767125\n"
     ]
    }
   ],
   "source": [
    "problem, operations, facility = run_profit_maximisation(\n",
    "        SOLAR_CAPACITY,\n",
    "        SOLAR_PPA_DOL_KWH,\n",
    "        hourly_solar_production_kwh,\n",
    "        hourly_dayahead_dol_per_kwh,\n",
    "        ELECTROLYSIS_EFFICIENCY,\n",
    "        COMPRESSION_EFFICIENCY,\n",
    "        LIQUEFACTION_EFFICIENCY,\n",
    "        FUEL_CELL_EFFICIENCY,\n",
    "        LIQUEFACTION_MAX_UP,\n",
    "        LIQUEFACTION_MAX_DOWN,\n",
    "        OFFTAKE_TPD,\n",
    "        NUM_DAYS,\n",
    "        ELECTROLYSIS_CAPEX_DOL_kgPD,\n",
    "        COMPRESSOR_CAPEX_DOL_kgPD,\n",
    "        LIQUEFACTION_CAPEX_DOL_kgPD,\n",
    "        FUELCELL_CAPEX_DOL_kgPD,\n",
    "        H2_SALES_PRICE_DOL_per_kg,\n",
    "        GREEN_THRESHOLD_kg_per_kg,\n",
    "        ERCTO_CO2_kg_per_kwh,\n",
    "        T\n",
    "        )\n",
    "# OUTPUT\n",
    "power_opex_total = np.sum(operations['hourly_dayahead_dol_per_kwh'] @ operations['realtime_production_kwh']) \n",
    "power_opex_total += np.sum(SOLAR_PPA_DOL_KWH * operations['solar_production_kwh'])\n",
    "power_opex_per_kg = power_opex_total/sum(operations['liquefaction_produced_kg'])\n",
    "\n",
    "capex_total = facility['electrolyser_capacity_ph'] * 24 *ELECTROLYSIS_CAPEX_DOL_kgPD + \\\n",
    "    facility['compressor_capacity_ph'] * 24 * COMPRESSOR_CAPEX_DOL_kgPD + \\\n",
    "   facility['liquefaction_capacity_ph'] * 24 * LIQUEFACTION_CAPEX_DOL_kgPD\n",
    "\n",
    "\n",
    "capex_per_kg = capex_total / sum(operations['liquefaction_produced_kg'])\n",
    "print(f\"total offtake {sum(operations['liquefaction_produced_kg'])}\")\n",
    "print(f\"power opex / kg {power_opex_per_kg}\")\n",
    "print(f\"capex per kg {capex_per_kg}\")\n",
    "print(f\"total dol per kg {power_opex_per_kg + capex_per_kg}\")\n",
    "print(f\"profit {facility['total_profit']}\")\n",
    "\n",
    "print(f\"capacity of electrolysis (tpd): {facility['electrolyser_capacity_ph']*24}, capex {facility['electrolyser_capacity_ph'] *24 *ELECTROLYSIS_CAPEX_DOL_kgPD}\")\n",
    "print(f\"capacity of compressor (tpd) {facility['compressor_capacity_ph']*24}, capex {facility['compressor_capacity_ph'] * 24 * COMPRESSOR_CAPEX_DOL_kgPD}\")\n",
    "print(f\"capacity of liquefaction (tpd) {facility['liquefaction_capacity_ph']*24}, capex {facility['liquefaction_capacity_ph'] * LIQUEFACTION_CAPEX_DOL_kgPD}\")\n",
    "print(f\"capacity of fuelcell (tpd) {facility['fuelcell_capacity_ph']*24}, capex {facility['fuelcell_capacity_ph'] * FUELCELL_CAPEX_DOL_kgPD}\")"
   ]
  },
  {
   "cell_type": "code",
   "execution_count": 51,
   "metadata": {},
   "outputs": [
    {
     "name": "stdout",
     "output_type": "stream",
     "text": [
      "2.0 & 0.0 & 0.0\\\\\n",
      "2.5 & 0.0 & 0.0\\\\\n",
      "3 & 0.0 & 0.0\\\\\n",
      "3.5 & 0.0 & 0.0\\\\\n",
      "4 & 993933.07 & 24848326.72\\\\\n",
      "4.5 & 3797584.5 & 94939612.58\\\\\n",
      "5 & 7382119.51 & 184552987.73\\\\\n",
      "5.5 & 11396349.82 & 284908745.4\\\\\n",
      "6 & 15649061.24 & 391226531.01\\\\\n",
      "6.5 & 20035053.33 & 500876333.33\\\\\n",
      "7 & 24513125.6 & 612828140.0\\\\\n"
     ]
    }
   ],
   "source": [
    "for hydrogen_sales_price in [2.0,2.5,3,3.5,4,4.5,5,5.5,6,6.5,7]:\n",
    "    problem, operations, facility = run_profit_maximisation(\n",
    "        SOLAR_CAPACITY,\n",
    "        SOLAR_PPA_DOL_KWH,\n",
    "        hourly_solar_production_kwh,\n",
    "        hourly_dayahead_dol_per_kwh,\n",
    "        ELECTROLYSIS_EFFICIENCY,\n",
    "        COMPRESSION_EFFICIENCY,\n",
    "        LIQUEFACTION_EFFICIENCY,\n",
    "        FUEL_CELL_EFFICIENCY,\n",
    "        LIQUEFACTION_MAX_UP,\n",
    "        LIQUEFACTION_MAX_DOWN,\n",
    "        OFFTAKE_TPD,\n",
    "        NUM_DAYS,\n",
    "        ELECTROLYSIS_CAPEX_DOL_kgPD,\n",
    "        COMPRESSOR_CAPEX_DOL_kgPD,\n",
    "        LIQUEFACTION_CAPEX_DOL_kgPD,\n",
    "        FUELCELL_CAPEX_DOL_kgPD,\n",
    "        hydrogen_sales_price,\n",
    "        GREEN_THRESHOLD_kg_per_kg,\n",
    "        ERCTO_CO2_kg_per_kwh,\n",
    "        T\n",
    "        )\n",
    "\n",
    "    operations.to_csv(os.path.join('data', 'results','deterministic',f'operations_results_{hydrogen_sales_price}.csv'))\n",
    "    \n",
    "    with open(os.path.join('data', 'results','deterministic',f'facility_summary_results_{hydrogen_sales_price}.json'), 'w') as file:\n",
    "        json.dump(facility, file, indent=4)\n",
    "\n",
    "    # print total OPEX\n",
    "    # print(f\"{hydrogen_sales_price} & {round(1000*facility['total_profit']*(365/NUM_DAYS),2)} & \\\n",
    "    #       {round(facility['h2_revenue']*(365/NUM_DAYS),2)} & {round(facility['wholesale_revenue']*(365/NUM_DAYS),2)} & \\\n",
    "    #       {round(facility['solar_cost']*(365/NUM_DAYS),2)} & {round(facility['wholesale_cost']*(365/NUM_DAYS),2)} \\\\\\\\\")\n",
    "\n",
    "    # print te\n",
    "    print(f\"{hydrogen_sales_price} & {round(1000*facility['total_profit']*(365/NUM_DAYS),2)} & {round(1000*facility['total_profit']*(FACILITY_LIFETIME* 365/NUM_DAYS),2)}\\\\\\\\\")"
   ]
  },
  {
   "cell_type": "code",
   "execution_count": 53,
   "metadata": {},
   "outputs": [
    {
     "data": {
      "text/plain": [
       "4.7506057364341086"
      ]
     },
     "execution_count": 53,
     "metadata": {},
     "output_type": "execute_result"
    }
   ],
   "source": [
    "612828140.0 / ((2204 + 1044 + 1912)*25*1000)"
   ]
  }
 ],
 "metadata": {
  "kernelspec": {
   "display_name": "new_energy_operations_optimisation",
   "language": "python",
   "name": "new_energy_operations_optimisation"
  },
  "language_info": {
   "codemirror_mode": {
    "name": "ipython",
    "version": 3
   },
   "file_extension": ".py",
   "mimetype": "text/x-python",
   "name": "python",
   "nbconvert_exporter": "python",
   "pygments_lexer": "ipython3",
   "version": "3.9.12"
  },
  "orig_nbformat": 4
 },
 "nbformat": 4,
 "nbformat_minor": 2
}
